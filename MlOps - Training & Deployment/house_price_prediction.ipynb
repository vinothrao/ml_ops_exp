{
 "cells": [
  {
   "cell_type": "markdown",
   "metadata": {
    "application/vnd.databricks.v1+cell": {
     "cellMetadata": {},
     "inputWidgets": {},
     "nuid": "6a291929-1a0a-4a15-91de-3abb672bf739",
     "showTitle": false,
     "tableResultSettingsMap": {},
     "title": ""
    }
   },
   "source": [
    "\n",
    "**Summary of this Notebook:**\n",
    "\n",
    "This notebook demonstrates a simplified MLOps process, including:\n",
    "\n",
    "1. **ETL Process:**\n",
    "   - Extract data from an operational database (e.g., SQL Server) and save it to a datalake in parquet format.\n",
    "   - Read and clean the data from the datalake for model training.\n",
    "\n",
    "2. **MLOps Process:**\n",
    "   - Use GridSearchCV to find the best model.\n",
    "   - Compare the current model's score with the previous best score.\n",
    "   - Deploy the model if it performs better, logging all relevant parameters and features for future comparison.\n",
    "\n",
    "The process can be automated to run at regular intervals or triggered manually when new data arrives.   \n",
    "\n",
    "**Warning**: Since this is a demo standard security features are not followed"
   ]
  },
  {
   "cell_type": "code",
   "execution_count": 0,
   "metadata": {
    "application/vnd.databricks.v1+cell": {
     "cellMetadata": {
      "byteLimit": 2048000,
      "rowLimit": 10000
     },
     "inputWidgets": {},
     "nuid": "fe2ce5ea-ebe2-4042-bc96-ffce6b0375d3",
     "showTitle": false,
     "tableResultSettingsMap": {},
     "title": ""
    }
   },
   "outputs": [],
   "source": [
    "storage_account_name = \"sastest247\"\n",
    "container_name = \"price-data-parquet\"\n",
    "account_key = \"\"\n",
    "\n",
    "\n",
    "spark.conf.set(\n",
    "    f\"fs.azure.account.key.{storage_account_name}.blob.core.windows.net\",\n",
    "    account_key\n",
    ")\n"
   ]
  },
  {
   "cell_type": "markdown",
   "metadata": {
    "application/vnd.databricks.v1+cell": {
     "cellMetadata": {
      "byteLimit": 2048000,
      "rowLimit": 10000
     },
     "inputWidgets": {},
     "nuid": "604715df-e7b4-4069-93bc-58f95e45673d",
     "showTitle": false,
     "tableResultSettingsMap": {},
     "title": ""
    }
   },
   "source": [
    "ETL Part : Extracted the data from the sql and saved into the datalake as parquet file"
   ]
  },
  {
   "cell_type": "code",
   "execution_count": 0,
   "metadata": {
    "application/vnd.databricks.v1+cell": {
     "cellMetadata": {
      "byteLimit": 2048000,
      "rowLimit": 10000
     },
     "inputWidgets": {},
     "nuid": "c7261d8a-8871-4cfc-aac8-07a031ea1902",
     "showTitle": false,
     "tableResultSettingsMap": {},
     "title": ""
    }
   },
   "outputs": [],
   "source": [
    "# Read data from SQL Server\n",
    "jdbc_url = \"jdbc:sqlserver://servername.database.windows.net:1433;databaseName=houspredictiondb\"\n",
    "connection_properties = {\n",
    "    \"user\": \"\",\n",
    "    \"password\": \"\",\n",
    "    \"driver\": \"\"\n",
    "}\n",
    "\n",
    "df = spark.read.jdbc(url=jdbc_url, table=\"HouseDetails\", properties=connection_properties)\n",
    "\n",
    "# Save the DataFrame as Parquet in Azure Data Lake\n",
    "output_path = f\"wasbs://{container_name}@{storage_account_name}.blob.core.windows.net/house_details.parquet\"\n",
    "df.write.mode(\"overwrite\").parquet(output_path)\n"
   ]
  },
  {
   "cell_type": "code",
   "execution_count": 0,
   "metadata": {
    "application/vnd.databricks.v1+cell": {
     "cellMetadata": {
      "byteLimit": 2048000,
      "rowLimit": 10000
     },
     "inputWidgets": {},
     "nuid": "c964111a-07bb-45b4-9409-c86234cbe9d0",
     "showTitle": false,
     "tableResultSettingsMap": {},
     "title": ""
    }
   },
   "outputs": [],
   "source": [
    "import mlflow\n",
    "import mlflow.azure\n",
    "import mlflow.sklearn\n",
    "from pyspark.sql.functions import col\n",
    "from sklearn.model_selection import train_test_split, GridSearchCV\n",
    "from sklearn.ensemble import RandomForestRegressor\n",
    "from sklearn.pipeline import Pipeline\n",
    "from sklearn.preprocessing import OneHotEncoder, StandardScaler\n",
    "from sklearn.compose import ColumnTransformer\n",
    "from sklearn.impute import SimpleImputer\n",
    "from sklearn.linear_model import LinearRegression\n",
    "from sklearn.svm import SVR\n",
    "from xgboost import XGBRegressor\n",
    "\n",
    "import pandas as pd"
   ]
  },
  {
   "cell_type": "markdown",
   "metadata": {
    "application/vnd.databricks.v1+cell": {
     "cellMetadata": {
      "byteLimit": 2048000,
      "rowLimit": 10000
     },
     "inputWidgets": {},
     "nuid": "fb0b647f-710d-43da-8a97-45801d608c93",
     "showTitle": false,
     "tableResultSettingsMap": {},
     "title": ""
    }
   },
   "source": [
    "Data Engineering ETL Part: For simplicity the data is read as parquet format without any manipulations"
   ]
  },
  {
   "cell_type": "code",
   "execution_count": 0,
   "metadata": {
    "application/vnd.databricks.v1+cell": {
     "cellMetadata": {
      "byteLimit": 2048000,
      "rowLimit": 10000
     },
     "inputWidgets": {},
     "nuid": "8642b79f-d4d2-42cf-a7b3-e6b54db8890d",
     "showTitle": false,
     "tableResultSettingsMap": {},
     "title": ""
    }
   },
   "outputs": [
    {
     "name": "stderr",
     "output_type": "stream",
     "text": [
      "/databricks/spark/python/pyspark/sql/pandas/utils.py:149: UserWarning: The conversion of DecimalType columns is inefficient and may take a long time. Column names: [SalePrice] If those columns are not necessary, you may consider dropping them or converting to primitive types before the conversion.\n",
      "  warnings.warn(\n"
     ]
    }
   ],
   "source": [
    "# Read Parquet file from Azure storage\n",
    "file_path = f\"wasbs://{container_name}@{storage_account_name}.blob.core.windows.net/house_details.parquet\"\n",
    "\n",
    "# Read Parquet file from Azure storage\n",
    "df = spark.read.parquet(file_path)\n",
    "\n",
    "# Select relevant features and target with non-null values\n",
    "selected_features = [\"Neighborhood\", \"YearBuilt\", \"TotalBsmtSF\", \"GrLivArea\", \"OverallQual\", \"FullBath\", \"TotRmsAbvGrd\", \"GarageArea\"]\n",
    "target = \"SalePrice\"\n",
    "\n",
    "#sample for data cleaning. This can be extended as per the requirements\n",
    "data = df.select(selected_features + [target]).dropna().toPandas()"
   ]
  },
  {
   "cell_type": "code",
   "execution_count": 0,
   "metadata": {
    "application/vnd.databricks.v1+cell": {
     "cellMetadata": {
      "byteLimit": 2048000,
      "rowLimit": 10000
     },
     "inputWidgets": {},
     "nuid": "bfcb06ea-4679-4fec-ad98-985025c8578e",
     "showTitle": false,
     "tableResultSettingsMap": {},
     "title": ""
    }
   },
   "outputs": [
    {
     "data": {
      "text/html": [
       "<div>\n",
       "<style scoped>\n",
       "    .dataframe tbody tr th:only-of-type {\n",
       "        vertical-align: middle;\n",
       "    }\n",
       "\n",
       "    .dataframe tbody tr th {\n",
       "        vertical-align: top;\n",
       "    }\n",
       "\n",
       "    .dataframe thead th {\n",
       "        text-align: right;\n",
       "    }\n",
       "</style>\n",
       "<table border=\"1\" class=\"dataframe\">\n",
       "  <thead>\n",
       "    <tr style=\"text-align: right;\">\n",
       "      <th></th>\n",
       "      <th>Neighborhood</th>\n",
       "      <th>YearBuilt</th>\n",
       "      <th>TotalBsmtSF</th>\n",
       "      <th>GrLivArea</th>\n",
       "      <th>OverallQual</th>\n",
       "      <th>FullBath</th>\n",
       "      <th>TotRmsAbvGrd</th>\n",
       "      <th>GarageArea</th>\n",
       "      <th>SalePrice</th>\n",
       "    </tr>\n",
       "  </thead>\n",
       "  <tbody>\n",
       "    <tr>\n",
       "      <th>0</th>\n",
       "      <td>Gilbert</td>\n",
       "      <td>1990</td>\n",
       "      <td>1000</td>\n",
       "      <td>1000</td>\n",
       "      <td>4</td>\n",
       "      <td>3</td>\n",
       "      <td>4</td>\n",
       "      <td>3</td>\n",
       "      <td>0.00</td>\n",
       "    </tr>\n",
       "    <tr>\n",
       "      <th>1</th>\n",
       "      <td>Gilbert</td>\n",
       "      <td>1900</td>\n",
       "      <td>5000</td>\n",
       "      <td>2000</td>\n",
       "      <td>4</td>\n",
       "      <td>4</td>\n",
       "      <td>5</td>\n",
       "      <td>1000</td>\n",
       "      <td>0.00</td>\n",
       "    </tr>\n",
       "    <tr>\n",
       "      <th>2</th>\n",
       "      <td>CollgCr</td>\n",
       "      <td>2003</td>\n",
       "      <td>856</td>\n",
       "      <td>1710</td>\n",
       "      <td>7</td>\n",
       "      <td>2</td>\n",
       "      <td>8</td>\n",
       "      <td>548</td>\n",
       "      <td>208500.00</td>\n",
       "    </tr>\n",
       "    <tr>\n",
       "      <th>3</th>\n",
       "      <td>Veenker</td>\n",
       "      <td>1976</td>\n",
       "      <td>1262</td>\n",
       "      <td>1262</td>\n",
       "      <td>6</td>\n",
       "      <td>2</td>\n",
       "      <td>6</td>\n",
       "      <td>460</td>\n",
       "      <td>181500.00</td>\n",
       "    </tr>\n",
       "    <tr>\n",
       "      <th>4</th>\n",
       "      <td>CollgCr</td>\n",
       "      <td>2001</td>\n",
       "      <td>920</td>\n",
       "      <td>1786</td>\n",
       "      <td>7</td>\n",
       "      <td>2</td>\n",
       "      <td>6</td>\n",
       "      <td>608</td>\n",
       "      <td>223500.00</td>\n",
       "    </tr>\n",
       "  </tbody>\n",
       "</table>\n",
       "</div>"
      ],
      "text/plain": [
       "  Neighborhood  YearBuilt  TotalBsmtSF  ...  TotRmsAbvGrd  GarageArea  SalePrice\n",
       "0      Gilbert       1990         1000  ...             4           3       0.00\n",
       "1      Gilbert       1900         5000  ...             5        1000       0.00\n",
       "2      CollgCr       2003          856  ...             8         548  208500.00\n",
       "3      Veenker       1976         1262  ...             6         460  181500.00\n",
       "4      CollgCr       2001          920  ...             6         608  223500.00\n",
       "\n",
       "[5 rows x 9 columns]"
      ]
     },
     "execution_count": 8,
     "metadata": {},
     "output_type": "execute_result"
    }
   ],
   "source": [
    "data.head()"
   ]
  },
  {
   "cell_type": "markdown",
   "metadata": {
    "application/vnd.databricks.v1+cell": {
     "cellMetadata": {
      "byteLimit": 2048000,
      "rowLimit": 10000
     },
     "inputWidgets": {},
     "nuid": "86842297-6682-45d8-a5c8-070f038ccdd4",
     "showTitle": false,
     "tableResultSettingsMap": {},
     "title": ""
    }
   },
   "source": [
    "ML Part"
   ]
  },
  {
   "cell_type": "code",
   "execution_count": 0,
   "metadata": {
    "application/vnd.databricks.v1+cell": {
     "cellMetadata": {
      "byteLimit": 2048000,
      "rowLimit": 10000
     },
     "inputWidgets": {},
     "nuid": "d811f82f-37ce-47ac-9ea5-6580e60f97b6",
     "showTitle": false,
     "tableResultSettingsMap": {},
     "title": ""
    }
   },
   "outputs": [],
   "source": [
    "# Split data into training and test sets\n",
    "X = data[selected_features]\n",
    "y = data[target]\n",
    "X_train, X_test, y_train, y_test = train_test_split(X, y, test_size=0.2, random_state=42)\n",
    "\n",
    "# Preprocessing pipelines for both numeric and categorical features\n",
    "numeric_features = [\"YearBuilt\", \"TotalBsmtSF\", \"GrLivArea\", \"OverallQual\", \"FullBath\", \"TotRmsAbvGrd\", \"GarageArea\"]\n",
    "numeric_transformer = Pipeline(steps=[\n",
    "    ('imputer', SimpleImputer(strategy='median')),\n",
    "    ('scaler', StandardScaler())\n",
    "])\n",
    "\n",
    "categorical_features = [\"Neighborhood\"]\n",
    "categorical_transformer = Pipeline(steps=[\n",
    "    ('imputer', SimpleImputer(strategy='most_frequent')),\n",
    "    ('onehot', OneHotEncoder(handle_unknown='ignore')),\n",
    "    ('scaler', StandardScaler(with_mean=False))\n",
    "])\n",
    "\n",
    "# Combine preprocessing steps\n",
    "preprocessor = ColumnTransformer(\n",
    "    transformers=[\n",
    "        ('num', numeric_transformer, numeric_features),\n",
    "        ('cat', categorical_transformer, categorical_features)\n",
    "    ])\n",
    "\n",
    "# Define regression models to evaluate\n",
    "models = {\n",
    "    'RandomForest': RandomForestRegressor(random_state=42),\n",
    "    'LinearRegression': LinearRegression(),\n",
    "    'SVR': SVR(),\n",
    "    'XGBoost': XGBRegressor(random_state=42)\n",
    "}\n",
    "\n",
    "# Set up parameter grids for each model\n",
    "param_grids = {\n",
    "    'RandomForest': {'regressor__n_estimators': [100, 200]},\n",
    "    'LinearRegression': {},\n",
    "    'SVR': {'regressor__C': [0.1, 1, 10], 'regressor__kernel': ['linear', 'rbf']},\n",
    "    'XGBoost': {'regressor__n_estimators': [100, 200], 'regressor__learning_rate': [0.01, 0.1]}\n",
    "}\n",
    "\n"
   ]
  },
  {
   "cell_type": "code",
   "execution_count": 0,
   "metadata": {
    "application/vnd.databricks.v1+cell": {
     "cellMetadata": {
      "byteLimit": 2048000,
      "rowLimit": 10000
     },
     "inputWidgets": {},
     "nuid": "3b9e3f5c-43fe-4a15-92d1-76e86acc930d",
     "showTitle": false,
     "tableResultSettingsMap": {},
     "title": ""
    }
   },
   "outputs": [
    {
     "name": "stdout",
     "output_type": "stream",
     "text": [
      "Model: RandomForest, Best Score: -5.691300159723833, Best Params: {'regressor__n_estimators': 100}\n",
      "Model: LinearRegression, Best Score: 0.17212479387021576, Best Params: {}\n",
      "Model: SVR, Best Score: 0.3215192564803498, Best Params: {'regressor__C': 10, 'regressor__kernel': 'linear'}\n",
      "Model: XGBoost, Best Score: -1.1962150067214454, Best Params: {'regressor__learning_rate': 0.01, 'regressor__n_estimators': 100}\n"
     ]
    },
    {
     "name": "stderr",
     "output_type": "stream",
     "text": [
      "\u001b[31m2025/06/09 14:36:21 WARNING mlflow.models.model: Model logged without a signature and input example. Please set `input_example` parameter when logging the model to auto infer the model signature.\u001b[0m\n"
     ]
    },
    {
     "data": {
      "application/vnd.jupyter.widget-view+json": {
       "model_id": "e27a83218c614408bdd74356e2eba42f",
       "version_major": 2,
       "version_minor": 0
      },
      "text/plain": [
       "Uploading artifacts:   0%|          | 0/9 [00:00<?, ?it/s]"
      ]
     },
     "metadata": {},
     "output_type": "display_data"
    },
    {
     "name": "stdout",
     "output_type": "stream",
     "text": [
      "Model URI: dbfs:/databricks/mlflow-tracking/874797719351422/a5ad17f6d6de4cbfb499770906599299/artifacts/house_price_model\n"
     ]
    }
   ],
   "source": [
    "best_model = None\n",
    "best_score = float('-inf')\n",
    "\n",
    "# Start an MLflow run\n",
    "with mlflow.start_run() as run:\n",
    "    for model_name, model in models.items():\n",
    "        pipeline = Pipeline(steps=[\n",
    "            ('preprocessor', preprocessor),\n",
    "            ('regressor', model)\n",
    "        ])\n",
    "        \n",
    "        grid_search = GridSearchCV(pipeline, param_grids[model_name], cv=5, scoring='r2')\n",
    "        grid_search.fit(X_train, y_train)\n",
    "        \n",
    "        if grid_search.best_score_ > best_score:\n",
    "            best_score = grid_search.best_score_\n",
    "            best_model = grid_search.best_estimator_\n",
    "        \n",
    "        print(f\"Model: {model_name}, Best Score: {grid_search.best_score_}, Best Params: {grid_search.best_params_}\")\n",
    "    \n",
    "    # Log the best model to MLflow and the hyper parameters used\n",
    "    mlflow.sklearn.log_model(best_model, \"house_price_model\")\n",
    "    mlflow.log_metric(\"best_score\", best_score)\n",
    "    mlflow.log_params(grid_search.best_params_)\n",
    "    \n",
    "    \n",
    "    # Print the model URI\n",
    "    model_uri = mlflow.get_artifact_uri(\"house_price_model\")\n",
    "    print(f\"Model URI: {model_uri}\")"
   ]
  },
  {
   "cell_type": "code",
   "execution_count": 0,
   "metadata": {
    "application/vnd.databricks.v1+cell": {
     "cellMetadata": {
      "byteLimit": 2048000,
      "rowLimit": 10000
     },
     "inputWidgets": {},
     "nuid": "947fc97a-0989-4ecf-a83c-e0c8e6e7e5e9",
     "showTitle": false,
     "tableResultSettingsMap": {},
     "title": ""
    }
   },
   "outputs": [
    {
     "data": {
      "application/vnd.jupyter.widget-view+json": {
       "model_id": "2059d7294d244ee48c089b165cda12ae",
       "version_major": 2,
       "version_minor": 0
      },
      "text/plain": [
       "Uploading artifacts:   0%|          | 0/9 [00:00<?, ?it/s]"
      ]
     },
     "metadata": {},
     "output_type": "display_data"
    },
    {
     "data": {
      "application/vnd.jupyter.widget-view+json": {
       "model_id": "deeed7afeded4a39aab71ec218be7b26",
       "version_major": 2,
       "version_minor": 0
      },
      "text/plain": [
       "Uploading artifacts:   0%|          | 0/9 [00:00<?, ?it/s]"
      ]
     },
     "metadata": {},
     "output_type": "display_data"
    },
    {
     "name": "stdout",
     "output_type": "stream",
     "text": [
      "XGBoost Model Test R2: 0.01285546937727755\n",
      "XGBoost Model Test MSE: 141478693027.778\n"
     ]
    }
   ],
   "source": [
    "from sklearn.metrics import r2_score, mean_squared_error\n",
    "\n",
    "# Test and print the results for the XGBoost model\n",
    "xgboost_model = models['XGBoost']\n",
    "pipeline = Pipeline(steps=[\n",
    "    ('preprocessor', preprocessor),\n",
    "    ('regressor', xgboost_model)\n",
    "])\n",
    "\n",
    "grid_search = GridSearchCV(pipeline, param_grids['XGBoost'], cv=5, scoring='r2')\n",
    "grid_search.fit(X_train, y_train)\n",
    "\n",
    "# Predict on the test set\n",
    "y_pred = grid_search.predict(X_test)\n",
    "\n",
    "# Evaluate the model\n",
    "r2 = r2_score(y_test, y_pred)\n",
    "mse = mean_squared_error(y_test, y_pred)\n",
    "\n",
    "print(f\"XGBoost Model Test R2: {r2}\")\n",
    "print(f\"XGBoost Model Test MSE: {mse}\")"
   ]
  },
  {
   "cell_type": "markdown",
   "metadata": {
    "application/vnd.databricks.v1+cell": {
     "cellMetadata": {
      "byteLimit": 2048000,
      "rowLimit": 10000
     },
     "inputWidgets": {},
     "nuid": "7b53d97e-7a9b-438d-9015-1277ab05454f",
     "showTitle": false,
     "tableResultSettingsMap": {},
     "title": ""
    }
   },
   "source": [
    "MLOps Part"
   ]
  },
  {
   "cell_type": "code",
   "execution_count": 0,
   "metadata": {
    "application/vnd.databricks.v1+cell": {
     "cellMetadata": {
      "byteLimit": 2048000,
      "rowLimit": 10000
     },
     "inputWidgets": {},
     "nuid": "9196cf69-c446-4f5f-a009-d48e2beba3da",
     "showTitle": false,
     "tableResultSettingsMap": {},
     "title": ""
    }
   },
   "outputs": [
    {
     "data": {
      "text/plain": [
       "0.8276443851906403"
      ]
     },
     "execution_count": 20,
     "metadata": {},
     "output_type": "execute_result"
    }
   ],
   "source": [
    "from mlflow.tracking import MlflowClient\n",
    "\n",
    "# Get the best score from the previous run\n",
    "client = MlflowClient()\n",
    "\n",
    "experiment_ids = [123455566]\n",
    "previous_run = client.search_runs(experiment_ids, order_by=[\"metrics.best_score DESC\"], max_results=1)[0]\n",
    "previous_best_score = previous_run.data.metrics['best_score']\n",
    "previous_best_score"
   ]
  },
  {
   "cell_type": "code",
   "execution_count": 0,
   "metadata": {
    "application/vnd.databricks.v1+cell": {
     "cellMetadata": {
      "byteLimit": 2048000,
      "rowLimit": 10000
     },
     "inputWidgets": {},
     "nuid": "13fd1938-9959-4ad5-a1a6-0058a32ec1f0",
     "showTitle": false,
     "tableResultSettingsMap": {},
     "title": ""
    }
   },
   "outputs": [
    {
     "name": "stdout",
     "output_type": "stream",
     "text": [
      "Requirement already satisfied: azureml-core in /local_disk0/.ephemeral_nfs/envs/pythonEnv-ccdb6413-717d-47fd-aee4-d91042c0fe02/lib/python3.12/site-packages (1.60.0.post1)\n",
      "Requirement already satisfied: pytz in /databricks/python3/lib/python3.12/site-packages (from azureml-core) (2024.1)\n",
      "Requirement already satisfied: backports.tempfile in /local_disk0/.ephemeral_nfs/envs/pythonEnv-ccdb6413-717d-47fd-aee4-d91042c0fe02/lib/python3.12/site-packages (from azureml-core) (1.0)\n",
      "Requirement already satisfied: pathspec<1.0.0 in /databricks/python3/lib/python3.12/site-packages (from azureml-core) (0.10.3)\n",
      "Requirement already satisfied: requests<3.0.0,>=2.19.1 in /databricks/python3/lib/python3.12/site-packages (from requests[socks]<3.0.0,>=2.19.1->azureml-core) (2.32.2)\n",
      "Requirement already satisfied: msal<2.0.0,>=1.15.0 in /databricks/python3/lib/python3.12/site-packages (from azureml-core) (1.32.0)\n",
      "Requirement already satisfied: msal-extensions<=2.0.0,>=0.3.0 in /databricks/python3/lib/python3.12/site-packages (from azureml-core) (1.3.1)\n",
      "Requirement already satisfied: knack<0.13.0 in /local_disk0/.ephemeral_nfs/envs/pythonEnv-ccdb6413-717d-47fd-aee4-d91042c0fe02/lib/python3.12/site-packages (from azureml-core) (0.12.0)\n",
      "Requirement already satisfied: azure-core<2.0.0 in /databricks/python3/lib/python3.12/site-packages (from azureml-core) (1.33.0)\n",
      "Requirement already satisfied: pkginfo in /local_disk0/.ephemeral_nfs/envs/pythonEnv-ccdb6413-717d-47fd-aee4-d91042c0fe02/lib/python3.12/site-packages (from azureml-core) (1.12.1.2)\n",
      "Requirement already satisfied: argcomplete<4 in /databricks/python3/lib/python3.12/site-packages (from azureml-core) (3.6.2)\n",
      "Requirement already satisfied: humanfriendly<11.0,>=4.7 in /local_disk0/.ephemeral_nfs/envs/pythonEnv-ccdb6413-717d-47fd-aee4-d91042c0fe02/lib/python3.12/site-packages (from azureml-core) (10.0)\n",
      "Requirement already satisfied: paramiko<4.0.0,>=2.0.8 in /databricks/python3/lib/python3.12/site-packages (from azureml-core) (3.4.0)\n",
      "Requirement already satisfied: azure-mgmt-resource<=24.0.0,>=15.0.0 in /local_disk0/.ephemeral_nfs/envs/pythonEnv-ccdb6413-717d-47fd-aee4-d91042c0fe02/lib/python3.12/site-packages (from azureml-core) (23.4.0)\n",
      "Requirement already satisfied: azure-mgmt-containerregistry<14,>=8.2.0 in /local_disk0/.ephemeral_nfs/envs/pythonEnv-ccdb6413-717d-47fd-aee4-d91042c0fe02/lib/python3.12/site-packages (from azureml-core) (13.0.0)\n",
      "Requirement already satisfied: azure-mgmt-storage<=23.0.0,>=16.0.0 in /local_disk0/.ephemeral_nfs/envs/pythonEnv-ccdb6413-717d-47fd-aee4-d91042c0fe02/lib/python3.12/site-packages (from azureml-core) (23.0.0)\n",
      "Requirement already satisfied: azure-mgmt-keyvault<12.0.0,>=0.40.0 in /local_disk0/.ephemeral_nfs/envs/pythonEnv-ccdb6413-717d-47fd-aee4-d91042c0fe02/lib/python3.12/site-packages (from azureml-core) (11.0.0)\n",
      "Requirement already satisfied: azure-mgmt-authorization<5,>=0.40.0 in /local_disk0/.ephemeral_nfs/envs/pythonEnv-ccdb6413-717d-47fd-aee4-d91042c0fe02/lib/python3.12/site-packages (from azureml-core) (4.0.0)\n",
      "Requirement already satisfied: azure-mgmt-network<=29.0.0 in /local_disk0/.ephemeral_nfs/envs/pythonEnv-ccdb6413-717d-47fd-aee4-d91042c0fe02/lib/python3.12/site-packages (from azureml-core) (29.0.0)\n",
      "Requirement already satisfied: azure-graphrbac<1.0.0,>=0.40.0 in /local_disk0/.ephemeral_nfs/envs/pythonEnv-ccdb6413-717d-47fd-aee4-d91042c0fe02/lib/python3.12/site-packages (from azureml-core) (0.61.2)\n",
      "Requirement already satisfied: azure-common<2.0.0,>=1.1.12 in /local_disk0/.ephemeral_nfs/envs/pythonEnv-ccdb6413-717d-47fd-aee4-d91042c0fe02/lib/python3.12/site-packages (from azureml-core) (1.1.28)\n",
      "Requirement already satisfied: msrest<=0.7.1,>=0.5.1 in /local_disk0/.ephemeral_nfs/envs/pythonEnv-ccdb6413-717d-47fd-aee4-d91042c0fe02/lib/python3.12/site-packages (from azureml-core) (0.7.1)\n",
      "Requirement already satisfied: msrestazure<=0.7,>=0.4.33 in /local_disk0/.ephemeral_nfs/envs/pythonEnv-ccdb6413-717d-47fd-aee4-d91042c0fe02/lib/python3.12/site-packages (from azureml-core) (0.6.4.post1)\n",
      "Requirement already satisfied: urllib3<3.0.0,>1.26.17 in /local_disk0/.ephemeral_nfs/envs/pythonEnv-ccdb6413-717d-47fd-aee4-d91042c0fe02/lib/python3.12/site-packages (from azureml-core) (1.26.20)\n",
      "Requirement already satisfied: packaging<26.0,>=20.0 in /databricks/python3/lib/python3.12/site-packages (from azureml-core) (24.1)\n",
      "Requirement already satisfied: python-dateutil<3.0.0,>=2.7.3 in /databricks/python3/lib/python3.12/site-packages (from azureml-core) (2.9.0.post0)\n",
      "Requirement already satisfied: ndg-httpsclient<=0.5.1 in /local_disk0/.ephemeral_nfs/envs/pythonEnv-ccdb6413-717d-47fd-aee4-d91042c0fe02/lib/python3.12/site-packages (from azureml-core) (0.5.1)\n",
      "Requirement already satisfied: SecretStorage<4.0.0 in /local_disk0/.ephemeral_nfs/envs/pythonEnv-ccdb6413-717d-47fd-aee4-d91042c0fe02/lib/python3.12/site-packages (from azureml-core) (3.3.3)\n",
      "Requirement already satisfied: jsonpickle<5.0.0 in /local_disk0/.ephemeral_nfs/envs/pythonEnv-ccdb6413-717d-47fd-aee4-d91042c0fe02/lib/python3.12/site-packages (from azureml-core) (4.1.1)\n",
      "Requirement already satisfied: contextlib2<22.0.0 in /local_disk0/.ephemeral_nfs/envs/pythonEnv-ccdb6413-717d-47fd-aee4-d91042c0fe02/lib/python3.12/site-packages (from azureml-core) (21.6.0)\n",
      "Requirement already satisfied: docker<8.0.0 in /local_disk0/.ephemeral_nfs/envs/pythonEnv-ccdb6413-717d-47fd-aee4-d91042c0fe02/lib/python3.12/site-packages (from azureml-core) (7.1.0)\n",
      "Requirement already satisfied: PyJWT<3.0.0 in /usr/lib/python3/dist-packages (from azureml-core) (2.7.0)\n",
      "Requirement already satisfied: adal<=1.2.7,>=1.2.0 in /local_disk0/.ephemeral_nfs/envs/pythonEnv-ccdb6413-717d-47fd-aee4-d91042c0fe02/lib/python3.12/site-packages (from azureml-core) (1.2.7)\n",
      "Requirement already satisfied: pyopenssl<26.0.0 in /databricks/python3/lib/python3.12/site-packages (from azureml-core) (24.0.0)\n",
      "Requirement already satisfied: jmespath<2.0.0 in /databricks/python3/lib/python3.12/site-packages (from azureml-core) (1.0.1)\n",
      "Requirement already satisfied: cryptography>=1.1.0 in /databricks/python3/lib/python3.12/site-packages (from adal<=1.2.7,>=1.2.0->azureml-core) (42.0.5)\n",
      "Requirement already satisfied: six>=1.11.0 in /usr/lib/python3/dist-packages (from azure-core<2.0.0->azureml-core) (1.16.0)\n",
      "Requirement already satisfied: typing-extensions>=4.6.0 in /databricks/python3/lib/python3.12/site-packages (from azure-core<2.0.0->azureml-core) (4.11.0)\n",
      "Requirement already satisfied: isodate<1.0.0,>=0.6.1 in /databricks/python3/lib/python3.12/site-packages (from azure-mgmt-authorization<5,>=0.40.0->azureml-core) (0.6.1)\n",
      "Requirement already satisfied: azure-mgmt-core<2.0.0,>=1.3.2 in /local_disk0/.ephemeral_nfs/envs/pythonEnv-ccdb6413-717d-47fd-aee4-d91042c0fe02/lib/python3.12/site-packages (from azure-mgmt-authorization<5,>=0.40.0->azureml-core) (1.5.0)\n",
      "Requirement already satisfied: pygments in /databricks/python3/lib/python3.12/site-packages (from knack<0.13.0->azureml-core) (2.15.1)\n",
      "Requirement already satisfied: pyyaml in /databricks/python3/lib/python3.12/site-packages (from knack<0.13.0->azureml-core) (6.0.1)\n",
      "Requirement already satisfied: tabulate in /databricks/python3/lib/python3.12/site-packages (from knack<0.13.0->azureml-core) (0.9.0)\n",
      "Requirement already satisfied: certifi>=2017.4.17 in /databricks/python3/lib/python3.12/site-packages (from msrest<=0.7.1,>=0.5.1->azureml-core) (2024.6.2)\n",
      "Requirement already satisfied: requests-oauthlib>=0.5.0 in /databricks/python3/lib/python3.12/site-packages (from msrest<=0.7.1,>=0.5.1->azureml-core) (1.3.1)\n",
      "Requirement already satisfied: pyasn1>=0.1.1 in /databricks/python3/lib/python3.12/site-packages (from ndg-httpsclient<=0.5.1->azureml-core) (0.4.8)\n",
      "Requirement already satisfied: bcrypt>=3.2 in /databricks/python3/lib/python3.12/site-packages (from paramiko<4.0.0,>=2.0.8->azureml-core) (3.2.0)\n",
      "Requirement already satisfied: pynacl>=1.5 in /databricks/python3/lib/python3.12/site-packages (from paramiko<4.0.0,>=2.0.8->azureml-core) (1.5.0)\n",
      "Requirement already satisfied: charset-normalizer<4,>=2 in /databricks/python3/lib/python3.12/site-packages (from requests<3.0.0,>=2.19.1->requests[socks]<3.0.0,>=2.19.1->azureml-core) (2.0.4)\n",
      "Requirement already satisfied: idna<4,>=2.5 in /databricks/python3/lib/python3.12/site-packages (from requests<3.0.0,>=2.19.1->requests[socks]<3.0.0,>=2.19.1->azureml-core) (3.7)\n",
      "Requirement already satisfied: PySocks!=1.5.7,>=1.5.6 in /local_disk0/.ephemeral_nfs/envs/pythonEnv-ccdb6413-717d-47fd-aee4-d91042c0fe02/lib/python3.12/site-packages (from requests[socks]<3.0.0,>=2.19.1->azureml-core) (1.7.1)\n",
      "Requirement already satisfied: jeepney>=0.6 in /local_disk0/.ephemeral_nfs/envs/pythonEnv-ccdb6413-717d-47fd-aee4-d91042c0fe02/lib/python3.12/site-packages (from SecretStorage<4.0.0->azureml-core) (0.9.0)\n",
      "Requirement already satisfied: backports.weakref in /local_disk0/.ephemeral_nfs/envs/pythonEnv-ccdb6413-717d-47fd-aee4-d91042c0fe02/lib/python3.12/site-packages (from backports.tempfile->azureml-core) (1.0.post1)\n",
      "Requirement already satisfied: cffi>=1.1 in /databricks/python3/lib/python3.12/site-packages (from bcrypt>=3.2->paramiko<4.0.0,>=2.0.8->azureml-core) (1.16.0)\n",
      "Requirement already satisfied: oauthlib>=3.0.0 in /databricks/python3/lib/python3.12/site-packages (from requests-oauthlib>=0.5.0->msrest<=0.7.1,>=0.5.1->azureml-core) (3.2.0)\n",
      "Requirement already satisfied: pycparser in /databricks/python3/lib/python3.12/site-packages (from cffi>=1.1->bcrypt>=3.2->paramiko<4.0.0,>=2.0.8->azureml-core) (2.21)\n",
      "\u001b[43mNote: you may need to restart the kernel using %restart_python or dbutils.library.restartPython() to use updated packages.\u001b[0m\n",
      "Requirement already satisfied: azureml-mlflow in /local_disk0/.ephemeral_nfs/envs/pythonEnv-ccdb6413-717d-47fd-aee4-d91042c0fe02/lib/python3.12/site-packages (1.60.0.post1)\n",
      "Requirement already satisfied: jsonpickle<5.0.0 in /local_disk0/.ephemeral_nfs/envs/pythonEnv-ccdb6413-717d-47fd-aee4-d91042c0fe02/lib/python3.12/site-packages (from azureml-mlflow) (4.1.1)\n",
      "Requirement already satisfied: mlflow-skinny<3.0.0 in /databricks/python3/lib/python3.12/site-packages (from azureml-mlflow) (2.21.3)\n",
      "Requirement already satisfied: azure-identity in /databricks/python3/lib/python3.12/site-packages (from azureml-mlflow) (1.21.0)\n",
      "Requirement already satisfied: msrest>=0.6.18 in /local_disk0/.ephemeral_nfs/envs/pythonEnv-ccdb6413-717d-47fd-aee4-d91042c0fe02/lib/python3.12/site-packages (from azureml-mlflow) (0.7.1)\n",
      "Requirement already satisfied: azure-core!=1.22.0,<2.0.0,>=1.8.0 in /databricks/python3/lib/python3.12/site-packages (from azureml-mlflow) (1.33.0)\n",
      "Requirement already satisfied: azure-mgmt-core<2.0.0,>=1.2.0 in /local_disk0/.ephemeral_nfs/envs/pythonEnv-ccdb6413-717d-47fd-aee4-d91042c0fe02/lib/python3.12/site-packages (from azureml-mlflow) (1.5.0)\n",
      "Requirement already satisfied: azure-storage-blob<=12.19.0,>=12.5.0 in /local_disk0/.ephemeral_nfs/envs/pythonEnv-ccdb6413-717d-47fd-aee4-d91042c0fe02/lib/python3.12/site-packages (from azureml-mlflow) (12.19.0)\n",
      "Requirement already satisfied: azure-common<2.0.0,>=1.1 in /local_disk0/.ephemeral_nfs/envs/pythonEnv-ccdb6413-717d-47fd-aee4-d91042c0fe02/lib/python3.12/site-packages (from azureml-mlflow) (1.1.28)\n",
      "Requirement already satisfied: cryptography in /databricks/python3/lib/python3.12/site-packages (from azureml-mlflow) (42.0.5)\n",
      "Requirement already satisfied: python-dateutil<3.0.0,>=2.7.3 in /databricks/python3/lib/python3.12/site-packages (from azureml-mlflow) (2.9.0.post0)\n",
      "Requirement already satisfied: pytz in /databricks/python3/lib/python3.12/site-packages (from azureml-mlflow) (2024.1)\n",
      "Requirement already satisfied: requests>=2.21.0 in /databricks/python3/lib/python3.12/site-packages (from azure-core!=1.22.0,<2.0.0,>=1.8.0->azureml-mlflow) (2.32.2)\n",
      "Requirement already satisfied: six>=1.11.0 in /usr/lib/python3/dist-packages (from azure-core!=1.22.0,<2.0.0,>=1.8.0->azureml-mlflow) (1.16.0)\n",
      "Requirement already satisfied: typing-extensions>=4.6.0 in /databricks/python3/lib/python3.12/site-packages (from azure-core!=1.22.0,<2.0.0,>=1.8.0->azureml-mlflow) (4.11.0)\n",
      "Requirement already satisfied: isodate>=0.6.1 in /databricks/python3/lib/python3.12/site-packages (from azure-storage-blob<=12.19.0,>=12.5.0->azureml-mlflow) (0.6.1)\n",
      "Requirement already satisfied: cffi>=1.12 in /databricks/python3/lib/python3.12/site-packages (from cryptography->azureml-mlflow) (1.16.0)\n",
      "Requirement already satisfied: cachetools<6,>=5.0.0 in /databricks/python3/lib/python3.12/site-packages (from mlflow-skinny<3.0.0->azureml-mlflow) (5.3.3)\n",
      "Requirement already satisfied: click<9,>=7.0 in /databricks/python3/lib/python3.12/site-packages (from mlflow-skinny<3.0.0->azureml-mlflow) (8.1.7)\n",
      "Requirement already satisfied: cloudpickle<4 in /databricks/python3/lib/python3.12/site-packages (from mlflow-skinny<3.0.0->azureml-mlflow) (2.2.1)\n",
      "Requirement already satisfied: databricks-sdk<1,>=0.20.0 in /databricks/python3/lib/python3.12/site-packages (from mlflow-skinny<3.0.0->azureml-mlflow) (0.30.0)\n",
      "Requirement already satisfied: fastapi<1 in /databricks/python3/lib/python3.12/site-packages (from mlflow-skinny<3.0.0->azureml-mlflow) (0.115.12)\n",
      "Requirement already satisfied: gitpython<4,>=3.1.9 in /databricks/python3/lib/python3.12/site-packages (from mlflow-skinny<3.0.0->azureml-mlflow) (3.1.37)\n",
      "Requirement already satisfied: importlib_metadata!=4.7.0,<9,>=3.7.0 in /databricks/python3/lib/python3.12/site-packages (from mlflow-skinny<3.0.0->azureml-mlflow) (6.0.0)\n",
      "Requirement already satisfied: opentelemetry-api<3,>=1.9.0 in /databricks/python3/lib/python3.12/site-packages (from mlflow-skinny<3.0.0->azureml-mlflow) (1.32.0)\n",
      "Requirement already satisfied: opentelemetry-sdk<3,>=1.9.0 in /databricks/python3/lib/python3.12/site-packages (from mlflow-skinny<3.0.0->azureml-mlflow) (1.32.0)\n",
      "Requirement already satisfied: packaging<25 in /databricks/python3/lib/python3.12/site-packages (from mlflow-skinny<3.0.0->azureml-mlflow) (24.1)\n",
      "Requirement already satisfied: protobuf<6,>=3.12.0 in /databricks/python3/lib/python3.12/site-packages (from mlflow-skinny<3.0.0->azureml-mlflow) (4.24.1)\n",
      "Requirement already satisfied: pydantic<3,>=1.10.8 in /databricks/python3/lib/python3.12/site-packages (from mlflow-skinny<3.0.0->azureml-mlflow) (2.8.2)\n",
      "Requirement already satisfied: pyyaml<7,>=5.1 in /databricks/python3/lib/python3.12/site-packages (from mlflow-skinny<3.0.0->azureml-mlflow) (6.0.1)\n",
      "Requirement already satisfied: sqlparse<1,>=0.4.0 in /databricks/python3/lib/python3.12/site-packages (from mlflow-skinny<3.0.0->azureml-mlflow) (0.4.2)\n",
      "Requirement already satisfied: uvicorn<1 in /databricks/python3/lib/python3.12/site-packages (from mlflow-skinny<3.0.0->azureml-mlflow) (0.34.1)\n",
      "Requirement already satisfied: certifi>=2017.4.17 in /databricks/python3/lib/python3.12/site-packages (from msrest>=0.6.18->azureml-mlflow) (2024.6.2)\n",
      "Requirement already satisfied: requests-oauthlib>=0.5.0 in /databricks/python3/lib/python3.12/site-packages (from msrest>=0.6.18->azureml-mlflow) (1.3.1)\n",
      "Requirement already satisfied: msal>=1.30.0 in /databricks/python3/lib/python3.12/site-packages (from azure-identity->azureml-mlflow) (1.32.0)\n",
      "Requirement already satisfied: msal-extensions>=1.2.0 in /databricks/python3/lib/python3.12/site-packages (from azure-identity->azureml-mlflow) (1.3.1)\n",
      "Requirement already satisfied: pycparser in /databricks/python3/lib/python3.12/site-packages (from cffi>=1.12->cryptography->azureml-mlflow) (2.21)\n",
      "Requirement already satisfied: google-auth~=2.0 in /databricks/python3/lib/python3.12/site-packages (from databricks-sdk<1,>=0.20.0->mlflow-skinny<3.0.0->azureml-mlflow) (2.21.0)\n",
      "Requirement already satisfied: starlette<0.47.0,>=0.40.0 in /databricks/python3/lib/python3.12/site-packages (from fastapi<1->mlflow-skinny<3.0.0->azureml-mlflow) (0.46.2)\n",
      "Requirement already satisfied: gitdb<5,>=4.0.1 in /databricks/python3/lib/python3.12/site-packages (from gitpython<4,>=3.1.9->mlflow-skinny<3.0.0->azureml-mlflow) (4.0.11)\n",
      "Requirement already satisfied: zipp>=0.5 in /databricks/python3/lib/python3.12/site-packages (from importlib_metadata!=4.7.0,<9,>=3.7.0->mlflow-skinny<3.0.0->azureml-mlflow) (3.17.0)\n",
      "Requirement already satisfied: PyJWT<3,>=1.0.0 in /usr/lib/python3/dist-packages (from PyJWT[crypto]<3,>=1.0.0->msal>=1.30.0->azure-identity->azureml-mlflow) (2.7.0)\n",
      "Requirement already satisfied: deprecated>=1.2.6 in /databricks/python3/lib/python3.12/site-packages (from opentelemetry-api<3,>=1.9.0->mlflow-skinny<3.0.0->azureml-mlflow) (1.2.18)\n",
      "Requirement already satisfied: opentelemetry-semantic-conventions==0.53b0 in /databricks/python3/lib/python3.12/site-packages (from opentelemetry-sdk<3,>=1.9.0->mlflow-skinny<3.0.0->azureml-mlflow) (0.53b0)\n",
      "Requirement already satisfied: annotated-types>=0.4.0 in /databricks/python3/lib/python3.12/site-packages (from pydantic<3,>=1.10.8->mlflow-skinny<3.0.0->azureml-mlflow) (0.7.0)\n",
      "Requirement already satisfied: pydantic-core==2.20.1 in /databricks/python3/lib/python3.12/site-packages (from pydantic<3,>=1.10.8->mlflow-skinny<3.0.0->azureml-mlflow) (2.20.1)\n",
      "Requirement already satisfied: charset-normalizer<4,>=2 in /databricks/python3/lib/python3.12/site-packages (from requests>=2.21.0->azure-core!=1.22.0,<2.0.0,>=1.8.0->azureml-mlflow) (2.0.4)\n",
      "Requirement already satisfied: idna<4,>=2.5 in /databricks/python3/lib/python3.12/site-packages (from requests>=2.21.0->azure-core!=1.22.0,<2.0.0,>=1.8.0->azureml-mlflow) (3.7)\n",
      "Requirement already satisfied: urllib3<3,>=1.21.1 in /local_disk0/.ephemeral_nfs/envs/pythonEnv-ccdb6413-717d-47fd-aee4-d91042c0fe02/lib/python3.12/site-packages (from requests>=2.21.0->azure-core!=1.22.0,<2.0.0,>=1.8.0->azureml-mlflow) (1.26.20)\n",
      "Requirement already satisfied: oauthlib>=3.0.0 in /databricks/python3/lib/python3.12/site-packages (from requests-oauthlib>=0.5.0->msrest>=0.6.18->azureml-mlflow) (3.2.0)\n",
      "Requirement already satisfied: h11>=0.8 in /databricks/python3/lib/python3.12/site-packages (from uvicorn<1->mlflow-skinny<3.0.0->azureml-mlflow) (0.14.0)\n",
      "Requirement already satisfied: wrapt<2,>=1.10 in /databricks/python3/lib/python3.12/site-packages (from deprecated>=1.2.6->opentelemetry-api<3,>=1.9.0->mlflow-skinny<3.0.0->azureml-mlflow) (1.14.1)\n",
      "Requirement already satisfied: smmap<6,>=3.0.1 in /databricks/python3/lib/python3.12/site-packages (from gitdb<5,>=4.0.1->gitpython<4,>=3.1.9->mlflow-skinny<3.0.0->azureml-mlflow) (5.0.0)\n",
      "Requirement already satisfied: pyasn1-modules>=0.2.1 in /databricks/python3/lib/python3.12/site-packages (from google-auth~=2.0->databricks-sdk<1,>=0.20.0->mlflow-skinny<3.0.0->azureml-mlflow) (0.2.8)\n",
      "Requirement already satisfied: rsa<5,>=3.1.4 in /databricks/python3/lib/python3.12/site-packages (from google-auth~=2.0->databricks-sdk<1,>=0.20.0->mlflow-skinny<3.0.0->azureml-mlflow) (4.9)\n",
      "Requirement already satisfied: anyio<5,>=3.6.2 in /databricks/python3/lib/python3.12/site-packages (from starlette<0.47.0,>=0.40.0->fastapi<1->mlflow-skinny<3.0.0->azureml-mlflow) (4.2.0)\n",
      "Requirement already satisfied: sniffio>=1.1 in /databricks/python3/lib/python3.12/site-packages (from anyio<5,>=3.6.2->starlette<0.47.0,>=0.40.0->fastapi<1->mlflow-skinny<3.0.0->azureml-mlflow) (1.3.0)\n",
      "Requirement already satisfied: pyasn1<0.5.0,>=0.4.6 in /databricks/python3/lib/python3.12/site-packages (from pyasn1-modules>=0.2.1->google-auth~=2.0->databricks-sdk<1,>=0.20.0->mlflow-skinny<3.0.0->azureml-mlflow) (0.4.8)\n",
      "\u001b[43mNote: you may need to restart the kernel using %restart_python or dbutils.library.restartPython() to use updated packages.\u001b[0m\n",
      "Requirement already satisfied: azureml-core in /local_disk0/.ephemeral_nfs/envs/pythonEnv-ccdb6413-717d-47fd-aee4-d91042c0fe02/lib/python3.12/site-packages (1.60.0.post1)\n",
      "Requirement already satisfied: pytz in /databricks/python3/lib/python3.12/site-packages (from azureml-core) (2024.1)\n",
      "Requirement already satisfied: backports.tempfile in /local_disk0/.ephemeral_nfs/envs/pythonEnv-ccdb6413-717d-47fd-aee4-d91042c0fe02/lib/python3.12/site-packages (from azureml-core) (1.0)\n",
      "Requirement already satisfied: pathspec<1.0.0 in /databricks/python3/lib/python3.12/site-packages (from azureml-core) (0.10.3)\n",
      "Requirement already satisfied: requests<3.0.0,>=2.19.1 in /databricks/python3/lib/python3.12/site-packages (from requests[socks]<3.0.0,>=2.19.1->azureml-core) (2.32.2)\n",
      "Requirement already satisfied: msal<2.0.0,>=1.15.0 in /databricks/python3/lib/python3.12/site-packages (from azureml-core) (1.32.0)\n",
      "Requirement already satisfied: msal-extensions<=2.0.0,>=0.3.0 in /databricks/python3/lib/python3.12/site-packages (from azureml-core) (1.3.1)\n",
      "Requirement already satisfied: knack<0.13.0 in /local_disk0/.ephemeral_nfs/envs/pythonEnv-ccdb6413-717d-47fd-aee4-d91042c0fe02/lib/python3.12/site-packages (from azureml-core) (0.12.0)\n",
      "Requirement already satisfied: azure-core<2.0.0 in /databricks/python3/lib/python3.12/site-packages (from azureml-core) (1.33.0)\n",
      "Requirement already satisfied: pkginfo in /local_disk0/.ephemeral_nfs/envs/pythonEnv-ccdb6413-717d-47fd-aee4-d91042c0fe02/lib/python3.12/site-packages (from azureml-core) (1.12.1.2)\n",
      "Requirement already satisfied: argcomplete<4 in /databricks/python3/lib/python3.12/site-packages (from azureml-core) (3.6.2)\n",
      "Requirement already satisfied: humanfriendly<11.0,>=4.7 in /local_disk0/.ephemeral_nfs/envs/pythonEnv-ccdb6413-717d-47fd-aee4-d91042c0fe02/lib/python3.12/site-packages (from azureml-core) (10.0)\n",
      "Requirement already satisfied: paramiko<4.0.0,>=2.0.8 in /databricks/python3/lib/python3.12/site-packages (from azureml-core) (3.4.0)\n",
      "Requirement already satisfied: azure-mgmt-resource<=24.0.0,>=15.0.0 in /local_disk0/.ephemeral_nfs/envs/pythonEnv-ccdb6413-717d-47fd-aee4-d91042c0fe02/lib/python3.12/site-packages (from azureml-core) (23.4.0)\n",
      "Requirement already satisfied: azure-mgmt-containerregistry<14,>=8.2.0 in /local_disk0/.ephemeral_nfs/envs/pythonEnv-ccdb6413-717d-47fd-aee4-d91042c0fe02/lib/python3.12/site-packages (from azureml-core) (13.0.0)\n",
      "Requirement already satisfied: azure-mgmt-storage<=23.0.0,>=16.0.0 in /local_disk0/.ephemeral_nfs/envs/pythonEnv-ccdb6413-717d-47fd-aee4-d91042c0fe02/lib/python3.12/site-packages (from azureml-core) (23.0.0)\n",
      "Requirement already satisfied: azure-mgmt-keyvault<12.0.0,>=0.40.0 in /local_disk0/.ephemeral_nfs/envs/pythonEnv-ccdb6413-717d-47fd-aee4-d91042c0fe02/lib/python3.12/site-packages (from azureml-core) (11.0.0)\n",
      "Requirement already satisfied: azure-mgmt-authorization<5,>=0.40.0 in /local_disk0/.ephemeral_nfs/envs/pythonEnv-ccdb6413-717d-47fd-aee4-d91042c0fe02/lib/python3.12/site-packages (from azureml-core) (4.0.0)\n",
      "Requirement already satisfied: azure-mgmt-network<=29.0.0 in /local_disk0/.ephemeral_nfs/envs/pythonEnv-ccdb6413-717d-47fd-aee4-d91042c0fe02/lib/python3.12/site-packages (from azureml-core) (29.0.0)\n",
      "Requirement already satisfied: azure-graphrbac<1.0.0,>=0.40.0 in /local_disk0/.ephemeral_nfs/envs/pythonEnv-ccdb6413-717d-47fd-aee4-d91042c0fe02/lib/python3.12/site-packages (from azureml-core) (0.61.2)\n",
      "Requirement already satisfied: azure-common<2.0.0,>=1.1.12 in /local_disk0/.ephemeral_nfs/envs/pythonEnv-ccdb6413-717d-47fd-aee4-d91042c0fe02/lib/python3.12/site-packages (from azureml-core) (1.1.28)\n",
      "Requirement already satisfied: msrest<=0.7.1,>=0.5.1 in /local_disk0/.ephemeral_nfs/envs/pythonEnv-ccdb6413-717d-47fd-aee4-d91042c0fe02/lib/python3.12/site-packages (from azureml-core) (0.7.1)\n",
      "Requirement already satisfied: msrestazure<=0.7,>=0.4.33 in /local_disk0/.ephemeral_nfs/envs/pythonEnv-ccdb6413-717d-47fd-aee4-d91042c0fe02/lib/python3.12/site-packages (from azureml-core) (0.6.4.post1)\n",
      "Requirement already satisfied: urllib3<3.0.0,>1.26.17 in /local_disk0/.ephemeral_nfs/envs/pythonEnv-ccdb6413-717d-47fd-aee4-d91042c0fe02/lib/python3.12/site-packages (from azureml-core) (1.26.20)\n",
      "Requirement already satisfied: packaging<26.0,>=20.0 in /databricks/python3/lib/python3.12/site-packages (from azureml-core) (24.1)\n",
      "Requirement already satisfied: python-dateutil<3.0.0,>=2.7.3 in /databricks/python3/lib/python3.12/site-packages (from azureml-core) (2.9.0.post0)\n",
      "Requirement already satisfied: ndg-httpsclient<=0.5.1 in /local_disk0/.ephemeral_nfs/envs/pythonEnv-ccdb6413-717d-47fd-aee4-d91042c0fe02/lib/python3.12/site-packages (from azureml-core) (0.5.1)\n",
      "Requirement already satisfied: SecretStorage<4.0.0 in /local_disk0/.ephemeral_nfs/envs/pythonEnv-ccdb6413-717d-47fd-aee4-d91042c0fe02/lib/python3.12/site-packages (from azureml-core) (3.3.3)\n",
      "Requirement already satisfied: jsonpickle<5.0.0 in /local_disk0/.ephemeral_nfs/envs/pythonEnv-ccdb6413-717d-47fd-aee4-d91042c0fe02/lib/python3.12/site-packages (from azureml-core) (4.1.1)\n",
      "Requirement already satisfied: contextlib2<22.0.0 in /local_disk0/.ephemeral_nfs/envs/pythonEnv-ccdb6413-717d-47fd-aee4-d91042c0fe02/lib/python3.12/site-packages (from azureml-core) (21.6.0)\n",
      "Requirement already satisfied: docker<8.0.0 in /local_disk0/.ephemeral_nfs/envs/pythonEnv-ccdb6413-717d-47fd-aee4-d91042c0fe02/lib/python3.12/site-packages (from azureml-core) (7.1.0)\n",
      "Requirement already satisfied: PyJWT<3.0.0 in /usr/lib/python3/dist-packages (from azureml-core) (2.7.0)\n",
      "Requirement already satisfied: adal<=1.2.7,>=1.2.0 in /local_disk0/.ephemeral_nfs/envs/pythonEnv-ccdb6413-717d-47fd-aee4-d91042c0fe02/lib/python3.12/site-packages (from azureml-core) (1.2.7)\n",
      "Requirement already satisfied: pyopenssl<26.0.0 in /databricks/python3/lib/python3.12/site-packages (from azureml-core) (24.0.0)\n",
      "Requirement already satisfied: jmespath<2.0.0 in /databricks/python3/lib/python3.12/site-packages (from azureml-core) (1.0.1)\n",
      "Requirement already satisfied: cryptography>=1.1.0 in /databricks/python3/lib/python3.12/site-packages (from adal<=1.2.7,>=1.2.0->azureml-core) (42.0.5)\n",
      "Requirement already satisfied: six>=1.11.0 in /usr/lib/python3/dist-packages (from azure-core<2.0.0->azureml-core) (1.16.0)\n",
      "Requirement already satisfied: typing-extensions>=4.6.0 in /databricks/python3/lib/python3.12/site-packages (from azure-core<2.0.0->azureml-core) (4.11.0)\n",
      "Requirement already satisfied: isodate<1.0.0,>=0.6.1 in /databricks/python3/lib/python3.12/site-packages (from azure-mgmt-authorization<5,>=0.40.0->azureml-core) (0.6.1)\n",
      "Requirement already satisfied: azure-mgmt-core<2.0.0,>=1.3.2 in /local_disk0/.ephemeral_nfs/envs/pythonEnv-ccdb6413-717d-47fd-aee4-d91042c0fe02/lib/python3.12/site-packages (from azure-mgmt-authorization<5,>=0.40.0->azureml-core) (1.5.0)\n",
      "Requirement already satisfied: pygments in /databricks/python3/lib/python3.12/site-packages (from knack<0.13.0->azureml-core) (2.15.1)\n",
      "Requirement already satisfied: pyyaml in /databricks/python3/lib/python3.12/site-packages (from knack<0.13.0->azureml-core) (6.0.1)\n",
      "Requirement already satisfied: tabulate in /databricks/python3/lib/python3.12/site-packages (from knack<0.13.0->azureml-core) (0.9.0)\n",
      "Requirement already satisfied: certifi>=2017.4.17 in /databricks/python3/lib/python3.12/site-packages (from msrest<=0.7.1,>=0.5.1->azureml-core) (2024.6.2)\n",
      "Requirement already satisfied: requests-oauthlib>=0.5.0 in /databricks/python3/lib/python3.12/site-packages (from msrest<=0.7.1,>=0.5.1->azureml-core) (1.3.1)\n",
      "Requirement already satisfied: pyasn1>=0.1.1 in /databricks/python3/lib/python3.12/site-packages (from ndg-httpsclient<=0.5.1->azureml-core) (0.4.8)\n",
      "Requirement already satisfied: bcrypt>=3.2 in /databricks/python3/lib/python3.12/site-packages (from paramiko<4.0.0,>=2.0.8->azureml-core) (3.2.0)\n",
      "Requirement already satisfied: pynacl>=1.5 in /databricks/python3/lib/python3.12/site-packages (from paramiko<4.0.0,>=2.0.8->azureml-core) (1.5.0)\n",
      "Requirement already satisfied: charset-normalizer<4,>=2 in /databricks/python3/lib/python3.12/site-packages (from requests<3.0.0,>=2.19.1->requests[socks]<3.0.0,>=2.19.1->azureml-core) (2.0.4)\n",
      "Requirement already satisfied: idna<4,>=2.5 in /databricks/python3/lib/python3.12/site-packages (from requests<3.0.0,>=2.19.1->requests[socks]<3.0.0,>=2.19.1->azureml-core) (3.7)\n",
      "Requirement already satisfied: PySocks!=1.5.7,>=1.5.6 in /local_disk0/.ephemeral_nfs/envs/pythonEnv-ccdb6413-717d-47fd-aee4-d91042c0fe02/lib/python3.12/site-packages (from requests[socks]<3.0.0,>=2.19.1->azureml-core) (1.7.1)\n",
      "Requirement already satisfied: jeepney>=0.6 in /local_disk0/.ephemeral_nfs/envs/pythonEnv-ccdb6413-717d-47fd-aee4-d91042c0fe02/lib/python3.12/site-packages (from SecretStorage<4.0.0->azureml-core) (0.9.0)\n",
      "Requirement already satisfied: backports.weakref in /local_disk0/.ephemeral_nfs/envs/pythonEnv-ccdb6413-717d-47fd-aee4-d91042c0fe02/lib/python3.12/site-packages (from backports.tempfile->azureml-core) (1.0.post1)\n",
      "Requirement already satisfied: cffi>=1.1 in /databricks/python3/lib/python3.12/site-packages (from bcrypt>=3.2->paramiko<4.0.0,>=2.0.8->azureml-core) (1.16.0)\n",
      "Requirement already satisfied: oauthlib>=3.0.0 in /databricks/python3/lib/python3.12/site-packages (from requests-oauthlib>=0.5.0->msrest<=0.7.1,>=0.5.1->azureml-core) (3.2.0)\n",
      "Requirement already satisfied: pycparser in /databricks/python3/lib/python3.12/site-packages (from cffi>=1.1->bcrypt>=3.2->paramiko<4.0.0,>=2.0.8->azureml-core) (2.21)\n",
      "\u001b[43mNote: you may need to restart the kernel using %restart_python or dbutils.library.restartPython() to use updated packages.\u001b[0m\n"
     ]
    }
   ],
   "source": [
    "!pip install azureml-core\n",
    "!pip install azureml-mlflow\n",
    "!pip install azureml-core"
   ]
  },
  {
   "cell_type": "markdown",
   "metadata": {
    "application/vnd.databricks.v1+cell": {
     "cellMetadata": {
      "byteLimit": 2048000,
      "rowLimit": 10000
     },
     "inputWidgets": {},
     "nuid": "684be39a-56d5-46da-96d7-8777d43f2869",
     "showTitle": false,
     "tableResultSettingsMap": {},
     "title": ""
    }
   },
   "source": [
    "Deploy the model and create a serving endpoint for inference"
   ]
  },
  {
   "cell_type": "code",
   "execution_count": 0,
   "metadata": {
    "application/vnd.databricks.v1+cell": {
     "cellMetadata": {
      "byteLimit": 2048000,
      "rowLimit": 10000
     },
     "inputWidgets": {},
     "nuid": "14168f13-bb9a-4237-88dd-3cdd6f4cf6e2",
     "showTitle": false,
     "tableResultSettingsMap": {},
     "title": ""
    }
   },
   "outputs": [
    {
     "name": "stderr",
     "output_type": "stream",
     "text": [
      "\u001b[31m2025/06/09 14:56:47 WARNING mlflow.models.model: Model logged without a signature and input example. Please set `input_example` parameter when logging the model to auto infer the model signature.\u001b[0m\n"
     ]
    },
    {
     "data": {
      "application/vnd.jupyter.widget-view+json": {
       "model_id": "33130c51b4a9450ebee2da9ac702da03",
       "version_major": 2,
       "version_minor": 0
      },
      "text/plain": [
       "Uploading artifacts:   0%|          | 0/9 [00:00<?, ?it/s]"
      ]
     },
     "metadata": {},
     "output_type": "display_data"
    },
    {
     "name": "stderr",
     "output_type": "stream",
     "text": [
      "Registered model 'house_price_model' already exists. Creating a new version of this model...\n",
      "2025/06/09 14:56:48 INFO mlflow.store.model_registry.abstract_store: Waiting up to 300 seconds for model version to finish creation. Model name: house_price_model, version 9\n",
      "Created version '9' of model 'house_price_model'.\n",
      "/root/.ipykernel/2103/command-7898529984600666-346772261:18: FutureWarning: ``mlflow.tracking.client.MlflowClient.transition_model_version_stage`` is deprecated since 2.9.0. Model registry stages will be removed in a future major release. To learn more about the deprecation of model registry stages, see our migration guide here: https://mlflow.org/docs/latest/model-registry.html#migrating-from-stages\n",
      "  client.transition_model_version_stage(\n",
      "/root/.ipykernel/2103/command-7898529984600666-346772261:52: FutureWarning: ``mlflow.deployments.databricks.DatabricksDeploymentClient.update_endpoint`` is deprecated. This method will be removed in a future release. Use ``update_endpoint_config, update_endpoint_tags, update_endpoint_rate_limits, or update_endpoint_ai_gateway`` instead.\n",
      "  deploy_client.update_endpoint(\n",
      "/databricks/python/lib/python3.12/site-packages/mlflow/deployments/databricks/__init__.py:547: UserWarning: The `update_endpoint` method is deprecated. Use the specific update methods—`update_endpoint_config`, `update_endpoint_tags`, `update_endpoint_rate_limits`, `update_endpoint_ai_gateway`—instead.\n",
      "  warnings.warn(\n"
     ]
    },
    {
     "name": "stdout",
     "output_type": "stream",
     "text": [
      "version <ModelVersion: aliases=[], creation_timestamp=1749481008838, current_stage='None', description=None, last_updated_timestamp=1749481008838, name='house_price_model', run_id=None, run_link='', source='dbfs:/databricks/mlflow-tracking/874797719351422/68dac2b7619e44a7a5424d49a8b118d2/artifacts/house_price_model', status='PENDING_REGISTRATION', status_message=None, tags={}, user_id='5289343852503447', version='9'>\n",
      "New best model registered and served. Model URI: dbfs:/databricks/mlflow-tracking/874797719351422/68dac2b7619e44a7a5424d49a8b118d2/artifacts/house_price_model\n"
     ]
    }
   ],
   "source": [
    "from mlflow.deployments import get_deploy_client\n",
    "\n",
    "# Compare the current XGBoost model with the previous best model.If it is better than the previous log and serve the model\n",
    "if r2 > previous_best_score:\n",
    "    # Log the new best model\n",
    "    with mlflow.start_run() as run:\n",
    "        mlflow.sklearn.log_model(grid_search.best_estimator_, \"house_price_model\")\n",
    "        mlflow.log_metric(\"r2\", r2)\n",
    "        mlflow.log_metric(\"mse\", mse)\n",
    "        mlflow.log_params(grid_search.best_params_)\n",
    "        \n",
    "        # Register the model\n",
    "        model_uri = mlflow.get_artifact_uri(\"house_price_model\")\n",
    "        model_name = \"house_price_model\"\n",
    "        res =  mlflow.register_model(model_uri, model_name)\n",
    "        print(\"version\",res)\n",
    "        # Serve the model\n",
    "        client.transition_model_version_stage(\n",
    "            name=model_name,\n",
    "            version=res.version,\n",
    "            stage=\"Production\"\n",
    "        )\n",
    "        deploy_client = get_deploy_client(\"databricks\")\n",
    "\n",
    "        serving_endpoint = deploy_client.get_endpoint(\"house_price_model\")\n",
    "        if serving_endpoint is None:\n",
    "            endpoint = deploy_client.create_endpoint(\n",
    "            name=\"house_price_model\",\n",
    "            config={\n",
    "            \"served_entities\": [\n",
    "              {\n",
    "                \"name\": \"house_price_model\",\n",
    "                \"entity_name\": \"house_price_model\",\n",
    "                \"entity_version\": res.version,\n",
    "                \"workload_size\": \"Small\",\n",
    "                \"scale_to_zero_enabled\": True\n",
    "                }\n",
    "            ],\n",
    "            \"traffic_config\": {\n",
    "                \"routes\": [\n",
    "                {\n",
    "                    \"served_model_name\": \"house_price_model\",\n",
    "                    \"traffic_percentage\": 100\n",
    "                }\n",
    "                ]\n",
    "            }\n",
    "        })\n",
    "        else:\n",
    "           \n",
    "            deploy_client.update_endpoint(\n",
    "            endpoint=\"house_price_model\",config={\n",
    "            \"served_entities\": [\n",
    "              {\n",
    "                \"name\": \"house_price_model\",\n",
    "                \"entity_name\": \"house_price_model\",\n",
    "                \"entity_version\": res.version,\n",
    "                \"workload_size\": \"Small\",\n",
    "                \"scale_to_zero_enabled\": True\n",
    "                }\n",
    "            ]})\n",
    "            print(f\"New best model registered and served. Model URI: {model_uri}\")\n",
    "          \n",
    "else:\n",
    "    print(\"Current XGBoost model is not better than the previous best model.\")"
   ]
  }
 ],
 "metadata": {
  "application/vnd.databricks.v1+notebook": {
   "computePreferences": null,
   "dashboards": [],
   "environmentMetadata": {
    "base_environment": "",
    "environment_version": "2"
   },
   "inputWidgetPreferences": null,
   "language": "python",
   "notebookMetadata": {
    "pythonIndentUnit": 4
   },
   "notebookName": "house_price_prediction",
   "widgets": {}
  },
  "language_info": {
   "name": "python"
  }
 },
 "nbformat": 4,
 "nbformat_minor": 0
}
